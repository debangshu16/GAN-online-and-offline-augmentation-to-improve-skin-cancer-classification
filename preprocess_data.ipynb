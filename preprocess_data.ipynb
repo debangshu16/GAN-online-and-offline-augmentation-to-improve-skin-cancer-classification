{
 "cells": [
  {
   "cell_type": "code",
   "execution_count": 1,
   "metadata": {
    "_cell_guid": "b1076dfc-b9ad-4769-8c92-a6c4dae69d19",
    "_uuid": "8f2839f25d086af736a60e9eeb907d3b93b6e0e5"
   },
   "outputs": [],
   "source": [
    "import numpy as np \n",
    "import pandas as pd \n",
    "import matplotlib.pyplot as plt\n",
    "%matplotlib inline\n",
    "\n",
    "import os\n",
    "\n",
    "from numpy.random import seed\n",
    "seed(101)\n",
    "\n"
   ]
  },
  {
   "cell_type": "code",
   "execution_count": 2,
   "metadata": {
    "_cell_guid": "79c7e3d0-c299-4dcb-8224-4455121ee9b0",
    "_uuid": "d629ff2d2480ee46fbb7e2d37f6b5fab8052498a"
   },
   "outputs": [
    {
     "data": {
      "text/html": [
       "<div>\n",
       "<style scoped>\n",
       "    .dataframe tbody tr th:only-of-type {\n",
       "        vertical-align: middle;\n",
       "    }\n",
       "\n",
       "    .dataframe tbody tr th {\n",
       "        vertical-align: top;\n",
       "    }\n",
       "\n",
       "    .dataframe thead th {\n",
       "        text-align: right;\n",
       "    }\n",
       "</style>\n",
       "<table border=\"1\" class=\"dataframe\">\n",
       "  <thead>\n",
       "    <tr style=\"text-align: right;\">\n",
       "      <th></th>\n",
       "      <th>lesion_id</th>\n",
       "      <th>image_id</th>\n",
       "      <th>dx</th>\n",
       "      <th>dx_type</th>\n",
       "      <th>age</th>\n",
       "      <th>sex</th>\n",
       "      <th>localization</th>\n",
       "    </tr>\n",
       "  </thead>\n",
       "  <tbody>\n",
       "    <tr>\n",
       "      <th>0</th>\n",
       "      <td>HAM_0000118</td>\n",
       "      <td>ISIC_0027419</td>\n",
       "      <td>bkl</td>\n",
       "      <td>histo</td>\n",
       "      <td>80.0</td>\n",
       "      <td>male</td>\n",
       "      <td>scalp</td>\n",
       "    </tr>\n",
       "    <tr>\n",
       "      <th>1</th>\n",
       "      <td>HAM_0000118</td>\n",
       "      <td>ISIC_0025030</td>\n",
       "      <td>bkl</td>\n",
       "      <td>histo</td>\n",
       "      <td>80.0</td>\n",
       "      <td>male</td>\n",
       "      <td>scalp</td>\n",
       "    </tr>\n",
       "    <tr>\n",
       "      <th>2</th>\n",
       "      <td>HAM_0002730</td>\n",
       "      <td>ISIC_0026769</td>\n",
       "      <td>bkl</td>\n",
       "      <td>histo</td>\n",
       "      <td>80.0</td>\n",
       "      <td>male</td>\n",
       "      <td>scalp</td>\n",
       "    </tr>\n",
       "    <tr>\n",
       "      <th>3</th>\n",
       "      <td>HAM_0002730</td>\n",
       "      <td>ISIC_0025661</td>\n",
       "      <td>bkl</td>\n",
       "      <td>histo</td>\n",
       "      <td>80.0</td>\n",
       "      <td>male</td>\n",
       "      <td>scalp</td>\n",
       "    </tr>\n",
       "    <tr>\n",
       "      <th>4</th>\n",
       "      <td>HAM_0001466</td>\n",
       "      <td>ISIC_0031633</td>\n",
       "      <td>bkl</td>\n",
       "      <td>histo</td>\n",
       "      <td>75.0</td>\n",
       "      <td>male</td>\n",
       "      <td>ear</td>\n",
       "    </tr>\n",
       "  </tbody>\n",
       "</table>\n",
       "</div>"
      ],
      "text/plain": [
       "     lesion_id      image_id   dx dx_type   age   sex localization\n",
       "0  HAM_0000118  ISIC_0027419  bkl   histo  80.0  male        scalp\n",
       "1  HAM_0000118  ISIC_0025030  bkl   histo  80.0  male        scalp\n",
       "2  HAM_0002730  ISIC_0026769  bkl   histo  80.0  male        scalp\n",
       "3  HAM_0002730  ISIC_0025661  bkl   histo  80.0  male        scalp\n",
       "4  HAM_0001466  ISIC_0031633  bkl   histo  75.0  male          ear"
      ]
     },
     "execution_count": 2,
     "metadata": {},
     "output_type": "execute_result"
    }
   ],
   "source": [
    "meta = pd.read_csv(\"HAM10000_metadata.csv\")\n",
    "meta.head()"
   ]
  },
  {
   "cell_type": "code",
   "execution_count": 3,
   "metadata": {
    "_uuid": "532c014feaba600504fe1432c569d05e7bc3727c"
   },
   "outputs": [
    {
     "data": {
      "text/plain": [
       "<matplotlib.axes._subplots.AxesSubplot at 0x24e789fbd30>"
      ]
     },
     "execution_count": 3,
     "metadata": {},
     "output_type": "execute_result"
    },
    {
     "data": {
      "image/png": "[encoded data removed]",
      "text/plain": [
       "<Figure size 432x288 with 1 Axes>"
      ]
     },
     "metadata": {
      "needs_background": "light"
     },
     "output_type": "display_data"
    }
   ],
   "source": [
    "meta.dx.value_counts().plot.bar(rot=90)"
   ]
  },
  {
   "cell_type": "code",
   "execution_count": 4,
   "metadata": {},
   "outputs": [
    {
     "data": {
      "text/plain": [
       "nv     6705\n",
       "mel    1113\n",
       "bkl    1099\n",
       "bcc     514\n",
       "Name: dx, dtype: int64"
      ]
     },
     "execution_count": 4,
     "metadata": {},
     "output_type": "execute_result"
    }
   ],
   "source": [
    "meta.dx.value_counts()[:4]"
   ]
  },
  {
   "cell_type": "code",
   "execution_count": 5,
   "metadata": {
    "_uuid": "83db94e93b3a34abce6349c4a03e23561e284e32"
   },
   "outputs": [
    {
     "name": "stdout",
     "output_type": "stream",
     "text": [
      "['nv', 'mel', 'bkl', 'bcc']\n"
     ]
    }
   ],
   "source": [
    "classes = list(meta.dx.value_counts().keys())[0:4]\n",
    "meta = meta[meta.dx.isin(classes)]\n",
    "print (classes)"
   ]
  },
  {
   "cell_type": "code",
   "execution_count": 6,
   "metadata": {
    "_uuid": "ed0f1e663ed7d07b8636edd97629da0e4b2524de"
   },
   "outputs": [
    {
     "name": "stdout",
     "output_type": "stream",
     "text": [
      "{'nv': 0, 'mel': 1, 'bkl': 2, 'bcc': 3}\n"
     ]
    },
    {
     "data": {
      "text/html": [
       "<div>\n",
       "<style scoped>\n",
       "    .dataframe tbody tr th:only-of-type {\n",
       "        vertical-align: middle;\n",
       "    }\n",
       "\n",
       "    .dataframe tbody tr th {\n",
       "        vertical-align: top;\n",
       "    }\n",
       "\n",
       "    .dataframe thead th {\n",
       "        text-align: right;\n",
       "    }\n",
       "</style>\n",
       "<table border=\"1\" class=\"dataframe\">\n",
       "  <thead>\n",
       "    <tr style=\"text-align: right;\">\n",
       "      <th></th>\n",
       "      <th>lesion_id</th>\n",
       "      <th>image_id</th>\n",
       "      <th>dx</th>\n",
       "      <th>dx_type</th>\n",
       "      <th>age</th>\n",
       "      <th>sex</th>\n",
       "      <th>localization</th>\n",
       "      <th>class</th>\n",
       "    </tr>\n",
       "  </thead>\n",
       "  <tbody>\n",
       "    <tr>\n",
       "      <th>8045</th>\n",
       "      <td>HAM_0002607</td>\n",
       "      <td>ISIC_0032744</td>\n",
       "      <td>nv</td>\n",
       "      <td>consensus</td>\n",
       "      <td>25.0</td>\n",
       "      <td>male</td>\n",
       "      <td>unknown</td>\n",
       "      <td>0</td>\n",
       "    </tr>\n",
       "    <tr>\n",
       "      <th>4094</th>\n",
       "      <td>HAM_0004608</td>\n",
       "      <td>ISIC_0028979</td>\n",
       "      <td>nv</td>\n",
       "      <td>follow_up</td>\n",
       "      <td>40.0</td>\n",
       "      <td>male</td>\n",
       "      <td>lower extremity</td>\n",
       "      <td>0</td>\n",
       "    </tr>\n",
       "    <tr>\n",
       "      <th>9437</th>\n",
       "      <td>HAM_0002425</td>\n",
       "      <td>ISIC_0032682</td>\n",
       "      <td>nv</td>\n",
       "      <td>consensus</td>\n",
       "      <td>20.0</td>\n",
       "      <td>male</td>\n",
       "      <td>back</td>\n",
       "      <td>0</td>\n",
       "    </tr>\n",
       "    <tr>\n",
       "      <th>3082</th>\n",
       "      <td>HAM_0006693</td>\n",
       "      <td>ISIC_0024462</td>\n",
       "      <td>nv</td>\n",
       "      <td>follow_up</td>\n",
       "      <td>45.0</td>\n",
       "      <td>male</td>\n",
       "      <td>lower extremity</td>\n",
       "      <td>0</td>\n",
       "    </tr>\n",
       "    <tr>\n",
       "      <th>5685</th>\n",
       "      <td>HAM_0001472</td>\n",
       "      <td>ISIC_0024334</td>\n",
       "      <td>nv</td>\n",
       "      <td>follow_up</td>\n",
       "      <td>45.0</td>\n",
       "      <td>female</td>\n",
       "      <td>trunk</td>\n",
       "      <td>0</td>\n",
       "    </tr>\n",
       "  </tbody>\n",
       "</table>\n",
       "</div>"
      ],
      "text/plain": [
       "        lesion_id      image_id  dx    dx_type   age     sex     localization  \\\n",
       "8045  HAM_0002607  ISIC_0032744  nv  consensus  25.0    male          unknown   \n",
       "4094  HAM_0004608  ISIC_0028979  nv  follow_up  40.0    male  lower extremity   \n",
       "9437  HAM_0002425  ISIC_0032682  nv  consensus  20.0    male             back   \n",
       "3082  HAM_0006693  ISIC_0024462  nv  follow_up  45.0    male  lower extremity   \n",
       "5685  HAM_0001472  ISIC_0024334  nv  follow_up  45.0  female            trunk   \n",
       "\n",
       "      class  \n",
       "8045      0  \n",
       "4094      0  \n",
       "9437      0  \n",
       "3082      0  \n",
       "5685      0  "
      ]
     },
     "execution_count": 6,
     "metadata": {},
     "output_type": "execute_result"
    }
   ],
   "source": [
    "clss={}\n",
    "for num,name in enumerate(classes):\n",
    "    clss[name]=num\n",
    "\n",
    "print (clss)\n",
    "\n",
    "def label_encode(label):\n",
    "    return clss[label]\n",
    "\n",
    "meta[\"class\"] = meta.dx.apply(label_encode)\n",
    "meta.sample(5)"
   ]
  },
  {
   "cell_type": "code",
   "execution_count": 7,
   "metadata": {
    "_uuid": "225cf07ab0be972c3e84b15656bf9935df97b4d5"
   },
   "outputs": [
    {
     "data": {
      "text/html": [
       "<div>\n",
       "<style scoped>\n",
       "    .dataframe tbody tr th:only-of-type {\n",
       "        vertical-align: middle;\n",
       "    }\n",
       "\n",
       "    .dataframe tbody tr th {\n",
       "        vertical-align: top;\n",
       "    }\n",
       "\n",
       "    .dataframe thead th {\n",
       "        text-align: right;\n",
       "    }\n",
       "</style>\n",
       "<table border=\"1\" class=\"dataframe\">\n",
       "  <thead>\n",
       "    <tr style=\"text-align: right;\">\n",
       "      <th></th>\n",
       "      <th>lesion_id</th>\n",
       "      <th>image_id</th>\n",
       "      <th>dx</th>\n",
       "      <th>dx_type</th>\n",
       "      <th>age</th>\n",
       "      <th>sex</th>\n",
       "      <th>localization</th>\n",
       "      <th>class</th>\n",
       "      <th>path</th>\n",
       "    </tr>\n",
       "  </thead>\n",
       "  <tbody>\n",
       "    <tr>\n",
       "      <th>0</th>\n",
       "      <td>HAM_0000118</td>\n",
       "      <td>ISIC_0027419</td>\n",
       "      <td>bkl</td>\n",
       "      <td>histo</td>\n",
       "      <td>80.0</td>\n",
       "      <td>male</td>\n",
       "      <td>scalp</td>\n",
       "      <td>2</td>\n",
       "      <td>images\\ISIC_0027419.jpg</td>\n",
       "    </tr>\n",
       "    <tr>\n",
       "      <th>1</th>\n",
       "      <td>HAM_0000118</td>\n",
       "      <td>ISIC_0025030</td>\n",
       "      <td>bkl</td>\n",
       "      <td>histo</td>\n",
       "      <td>80.0</td>\n",
       "      <td>male</td>\n",
       "      <td>scalp</td>\n",
       "      <td>2</td>\n",
       "      <td>images\\ISIC_0025030.jpg</td>\n",
       "    </tr>\n",
       "    <tr>\n",
       "      <th>2</th>\n",
       "      <td>HAM_0002730</td>\n",
       "      <td>ISIC_0026769</td>\n",
       "      <td>bkl</td>\n",
       "      <td>histo</td>\n",
       "      <td>80.0</td>\n",
       "      <td>male</td>\n",
       "      <td>scalp</td>\n",
       "      <td>2</td>\n",
       "      <td>images\\ISIC_0026769.jpg</td>\n",
       "    </tr>\n",
       "    <tr>\n",
       "      <th>3</th>\n",
       "      <td>HAM_0002730</td>\n",
       "      <td>ISIC_0025661</td>\n",
       "      <td>bkl</td>\n",
       "      <td>histo</td>\n",
       "      <td>80.0</td>\n",
       "      <td>male</td>\n",
       "      <td>scalp</td>\n",
       "      <td>2</td>\n",
       "      <td>images\\ISIC_0025661.jpg</td>\n",
       "    </tr>\n",
       "    <tr>\n",
       "      <th>4</th>\n",
       "      <td>HAM_0001466</td>\n",
       "      <td>ISIC_0031633</td>\n",
       "      <td>bkl</td>\n",
       "      <td>histo</td>\n",
       "      <td>75.0</td>\n",
       "      <td>male</td>\n",
       "      <td>ear</td>\n",
       "      <td>2</td>\n",
       "      <td>images\\ISIC_0031633.jpg</td>\n",
       "    </tr>\n",
       "  </tbody>\n",
       "</table>\n",
       "</div>"
      ],
      "text/plain": [
       "     lesion_id      image_id   dx dx_type   age   sex localization  class  \\\n",
       "0  HAM_0000118  ISIC_0027419  bkl   histo  80.0  male        scalp      2   \n",
       "1  HAM_0000118  ISIC_0025030  bkl   histo  80.0  male        scalp      2   \n",
       "2  HAM_0002730  ISIC_0026769  bkl   histo  80.0  male        scalp      2   \n",
       "3  HAM_0002730  ISIC_0025661  bkl   histo  80.0  male        scalp      2   \n",
       "4  HAM_0001466  ISIC_0031633  bkl   histo  75.0  male          ear      2   \n",
       "\n",
       "                      path  \n",
       "0  images\\ISIC_0027419.jpg  \n",
       "1  images\\ISIC_0025030.jpg  \n",
       "2  images\\ISIC_0026769.jpg  \n",
       "3  images\\ISIC_0025661.jpg  \n",
       "4  images\\ISIC_0031633.jpg  "
      ]
     },
     "execution_count": 7,
     "metadata": {},
     "output_type": "execute_result"
    }
   ],
   "source": [
    "from glob import glob\n",
    "imageid_path_dict = {os.path.splitext(os.path.basename(x))[0]: x\n",
    "                     for x in glob(os.path.join('images/', '*.jpg'))}\n",
    "meta['path'] = meta['image_id'].map(imageid_path_dict.get)\n",
    "meta.head()"
   ]
  },
  {
   "cell_type": "code",
   "execution_count": 8,
   "metadata": {},
   "outputs": [
    {
     "name": "stdout",
     "output_type": "stream",
     "text": [
      "514 6705 1099 1113\n"
     ]
    }
   ],
   "source": [
    "#data segregation\n",
    "meta_bcc = meta.loc[meta['dx']=='bcc']\n",
    "meta_nv = meta.loc[meta['dx']=='nv']\n",
    "meta_bkl = meta.loc[meta['dx']=='bkl']\n",
    "meta_mel = meta.loc[meta['dx']=='mel']\n",
    "\n",
    "print (len(meta_bcc),len(meta_nv),len(meta_bkl),len(meta_mel))\n"
   ]
  },
  {
   "cell_type": "code",
   "execution_count": 9,
   "metadata": {},
   "outputs": [],
   "source": [
    "from PIL import Image\n",
    "import pickle"
   ]
  },
  {
   "cell_type": "markdown",
   "metadata": {},
   "source": [
    "Creating the dataset for label \"bcc\""
   ]
  },
  {
   "cell_type": "code",
   "execution_count": 10,
   "metadata": {},
   "outputs": [],
   "source": [
    "temp = []\n",
    "for path in meta_bcc['path']:\n",
    "    img = Image.open(path)\n",
    "    img = img.resize([64,64])\n",
    "    temp.append(np.asarray(img))"
   ]
  },
  {
   "cell_type": "code",
   "execution_count": 11,
   "metadata": {},
   "outputs": [
    {
     "name": "stdout",
     "output_type": "stream",
     "text": [
      "(514, 64, 64, 3)\n"
     ]
    }
   ],
   "source": [
    "temp = np.array(temp)\n",
    "print (temp.shape)\n",
    "with open('bcc.pickle','wb') as f:\n",
    "    pickle.dump(temp,f)"
   ]
  },
  {
   "cell_type": "markdown",
   "metadata": {},
   "source": [
    "Creating the dataset for label \"nv\""
   ]
  },
  {
   "cell_type": "code",
   "execution_count": 12,
   "metadata": {},
   "outputs": [
    {
     "name": "stdout",
     "output_type": "stream",
     "text": [
      "(6705, 64, 64, 3)\n"
     ]
    }
   ],
   "source": [
    "temp = []\n",
    "for path in meta_nv['path']:\n",
    "    img = Image.open(path)\n",
    "    img = img.resize([64,64])\n",
    "    temp.append(np.asarray(img))\n",
    "    \n",
    "temp = np.array(temp)\n",
    "print (temp.shape)\n",
    "with open('nv.pickle','wb') as f:\n",
    "    pickle.dump(temp,f)"
   ]
  },
  {
   "cell_type": "markdown",
   "metadata": {},
   "source": [
    "Creating the dataset for label \"mel\""
   ]
  },
  {
   "cell_type": "code",
   "execution_count": 13,
   "metadata": {},
   "outputs": [
    {
     "name": "stdout",
     "output_type": "stream",
     "text": [
      "(1113, 64, 64, 3)\n"
     ]
    }
   ],
   "source": [
    "temp = []\n",
    "for path in meta_mel['path']:\n",
    "    img = Image.open(path)\n",
    "    img = img.resize([64,64])\n",
    "    temp.append(np.asarray(img))\n",
    "    \n",
    "temp = np.array(temp)\n",
    "print (temp.shape)\n",
    "with open('mel.pickle','wb') as f:\n",
    "    pickle.dump(temp,f)"
   ]
  },
  {
   "cell_type": "markdown",
   "metadata": {},
   "source": [
    "Creating the dataset for label \"bkl\""
   ]
  },
  {
   "cell_type": "code",
   "execution_count": 14,
   "metadata": {},
   "outputs": [
    {
     "name": "stdout",
     "output_type": "stream",
     "text": [
      "(1099, 64, 64, 3)\n"
     ]
    }
   ],
   "source": [
    "temp = []\n",
    "for path in meta_bkl['path']:\n",
    "    img = Image.open(path)\n",
    "    img = img.resize([64,64])\n",
    "    temp.append(np.asarray(img))\n",
    "    \n",
    "temp = np.array(temp)\n",
    "print (temp.shape)\n",
    "with open('bkl.pickle','wb') as f:\n",
    "    pickle.dump(temp,f)"
   ]
  },
  {
   "cell_type": "markdown",
   "metadata": {},
   "source": [
    "Creating the train, validation , test split data and storing them"
   ]
  },
  {
   "cell_type": "code",
   "execution_count": 15,
   "metadata": {
    "_uuid": "a8ccbb8b44cc272fef2b97968e124d0e6da34656"
   },
   "outputs": [],
   "source": [
    "labels=[]\n",
    "Y=[]\n",
    "trainX=[]\n",
    "for c in classes:\n",
    "    temp = meta[meta[\"dx\"]==c]\n",
    "    for path in temp[\"path\"]:\n",
    "        image=Image.open(path)\n",
    "        image=image.resize([64,64])\n",
    "        trainX.append(np.asarray(image))\n",
    "        labels.append(np.eye(len(classes))[clss[c]])\n",
    "        Y.append(clss[c])\n",
    "    "
   ]
  },
  {
   "cell_type": "code",
   "execution_count": 17,
   "metadata": {
    "_uuid": "264f42afc7d31d4bdf157768ee84e67f86d5dc46"
   },
   "outputs": [
    {
     "name": "stdout",
     "output_type": "stream",
     "text": [
      "(9431, 64, 64, 3) (9431, 4)\n"
     ]
    }
   ],
   "source": [
    "dataX = np.array(trainX)\n",
    "labels = np.array(labels)\n",
    "Y = np.array(Y)\n",
    "print (dataX.shape,labels.shape)"
   ]
  },
  {
   "cell_type": "code",
   "execution_count": 18,
   "metadata": {},
   "outputs": [],
   "source": [
    "import pickle\n",
    "with open('data.pickle','wb') as f:\n",
    "    pickle.dump(dataX,f)\n",
    "with open('data_labels.pickle','wb') as f:\n",
    "    pickle.dump(Y,f)"
   ]
  },
  {
   "cell_type": "code",
   "execution_count": 19,
   "metadata": {},
   "outputs": [],
   "source": [
    "with open('data_labels_one_hot.pickle','wb') as f:\n",
    "    pickle.dump(labels,f)"
   ]
  },
  {
   "cell_type": "code",
   "execution_count": 20,
   "metadata": {
    "_uuid": "a9a35bab2bfe1e9264ce3f52b5cf212cc99f2965"
   },
   "outputs": [],
   "source": [
    "from sklearn.utils import shuffle\n",
    "dataX,labels,Y=shuffle(dataX,labels,Y,random_state=101)"
   ]
  },
  {
   "cell_type": "code",
   "execution_count": 21,
   "metadata": {
    "_uuid": "2be5bca1134821651a377876fc31175a52f5ca5b"
   },
   "outputs": [],
   "source": [
    "from sklearn.model_selection import train_test_split\n",
    "trainX,testX,trainLabels,testLabels,trainY,testY=train_test_split(\n",
    "    dataX,labels,Y,test_size=0.15,random_state=101,stratify=Y)\n",
    "trainX,valX,trainLabels,valLabels,trainY,valY=train_test_split(\n",
    "    trainX,trainLabels,trainY,test_size=0.15,random_state=101,stratify=trainY)"
   ]
  },
  {
   "cell_type": "code",
   "execution_count": 22,
   "metadata": {},
   "outputs": [
    {
     "name": "stdout",
     "output_type": "stream",
     "text": [
      "(6813, 64, 64, 3) (6813, 4)\n",
      "(1203, 64, 64, 3) (1203, 4)\n",
      "(1415, 64, 64, 3) (1415, 4)\n",
      "9431\n"
     ]
    }
   ],
   "source": [
    "print (trainX.shape,trainLabels.shape)\n",
    "print (valX.shape,valLabels.shape)\n",
    "print (testX.shape,testLabels.shape)\n",
    "\n",
    "print (trainX.shape[0]+valX.shape[0]+testX.shape[0])"
   ]
  },
  {
   "cell_type": "code",
   "execution_count": 24,
   "metadata": {},
   "outputs": [],
   "source": [
    "with open('train_x.pickle','wb') as f:\n",
    "    pickle.dump(trainX,f)\n",
    "with open('train_y.pickle','wb') as f:\n",
    "    pickle.dump(trainLabels,f)\n",
    "with open('validation_x.pickle','wb') as f:\n",
    "    pickle.dump(valX,f)\n",
    "with open('validation_y.pickle','wb') as f:\n",
    "    pickle.dump(valLabels,f)\n",
    "with open('test_x.pickle','wb') as f:\n",
    "    pickle.dump(testX,f)\n",
    "with open('test_y.pickle','wb') as f:\n",
    "    pickle.dump(testLabels,f)"
   ]
  },
  {
   "cell_type": "code",
   "execution_count": null,
   "metadata": {},
   "outputs": [],
   "source": []
  }
 ],
 "metadata": {
  "kernelspec": {
   "display_name": "Python 3",
   "language": "python",
   "name": "python3"
  },
  "language_info": {
   "codemirror_mode": {
    "name": "ipython",
    "version": 3
   },
   "file_extension": ".py",
   "mimetype": "text/x-python",
   "name": "python",
   "nbconvert_exporter": "python",
   "pygments_lexer": "ipython3",
   "version": "3.7.3"
  }
 },
 "nbformat": 4,
 "nbformat_minor": 1
}
